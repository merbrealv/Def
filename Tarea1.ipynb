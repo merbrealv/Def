{
 "cells": [
  {
   "cell_type": "markdown",
   "metadata": {},
   "source": [
    "Poner titulo, nombres, fecha, contacto"
   ]
  },
  {
   "cell_type": "markdown",
   "metadata": {},
   "source": [
    "# 1.Introducción"
   ]
  },
  {
   "cell_type": "markdown",
   "metadata": {},
   "source": [
    "### 1.1. Objetivo del estudio"
   ]
  },
  {
   "cell_type": "markdown",
   "metadata": {},
   "source": [
    "El objetivo del estudio consiste en estudiar el factor de transcripción LHY, factor de elongación tardío del hipocotilo de *Arabidopsis thaliana*. Este factor de transcripción forma parte del reloj circardiano. Se pretende estudiar las posibles interacciones del reloj circadiano con la biosíntesis y regulación del ácido abcísico (ABA) a través del factor LHY."
   ]
  },
  {
   "cell_type": "markdown",
   "metadata": {},
   "source": [
    "### 1.2. Diseño Experimental"
   ]
  },
  {
   "cell_type": "markdown",
   "metadata": {},
   "source": [
    "Para el estudio se usó como sujeto de estudio *Arabidopsis thaliana*. Las muestras fueron extraídas dos horas después del amanecer cuando la expresión de LHY es máxima. A estas muestras se les realizó experimentos de inmunoprecipitación de la cromatina. Se llevarón a cabo con anticuerpos frente a todo el factor LHY. El ADN input fue usado como control en el experimento de ChIP. \n",
    "\n",
    "El número de acceso de GEO del estudio es GSE103785. Los SRA de cada muestra, chip e input, se encuentran en el fichero de parámetros del estudio. \n",
    "  \t"
   ]
  },
  {
   "cell_type": "markdown",
   "metadata": {},
   "source": [
    "### 1.3. Flujo de trabajo"
   ]
  }
 ],
 "metadata": {
  "kernelspec": {
   "display_name": "R",
   "language": "R",
   "name": "ir"
  },
  "language_info": {
   "codemirror_mode": "r",
   "file_extension": ".r",
   "mimetype": "text/x-r-source",
   "name": "R",
   "pygments_lexer": "r",
   "version": "3.6.1"
  }
 },
 "nbformat": 4,
 "nbformat_minor": 2
}
